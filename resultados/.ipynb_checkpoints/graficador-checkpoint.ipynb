{
 "cells": [
  {
   "cell_type": "code",
   "execution_count": 30,
   "metadata": {
    "collapsed": true,
    "scrolled": true
   },
   "outputs": [],
   "source": [
    "import pandas as pd\n",
    "import numpy as np\n",
    "import seaborn as sns; sns.set_style(\"darkgrid\")\n",
    "from sklearn import linear_model\n",
    "import matplotlib.pyplot as plt\n",
    "plt.style.use('ggplot')\n",
    "import random\n",
    "\n",
    "import sys\n",
    "import os\n",
    "\n",
    "import warnings\n",
    "warnings.filterwarnings('ignore')\n",
    "\n",
    "\n",
    "#Función para sacar outliers\n",
    "#(se puede cambiar eso de s-s.mean <= etc, esa es una forma posible de detectar outliers)\n",
    "\n",
    "def mascara_outliers(s, mult):\n",
    "    return abs(s - s.mean()) <= mult*s.std()\n",
    "\n",
    "def sacar_outliers(datos,tag,mult):\n",
    "    mascara = mascara_outliers(datos[tag], mult)\n",
    "    return datos[mascara]\n",
    "\n",
    "\n",
    "#Función para delimitar ejes:\n",
    "#(dice dominio, pero se puede usar para imagen también... ya se que esta medio cabeza, pero anda bien)\n",
    "\n",
    "def mascara_dominio_abajo(s,x0):\n",
    "    return x0 <= s\n",
    "def mascara_dominio_arriba(s,x1):\n",
    "    return s <= x1\n",
    "\n",
    "def achicar_dominio(datos,tag,x0,x1):\n",
    "    mascara = mascara_dominio_abajo(datos[tag],x0)\n",
    "    datos = datos[mascara]\n",
    "    mascara = mascara_dominio_arriba(datos[tag],x1)\n",
    "    return datos[mascara]\n",
    "\n",
    "\n",
    "#Función para crear una columna con cada año\n",
    "#(es imrpotante haber cargado el csv con el arguemtno parse_dates=[tag])\n",
    "def crear_col_anos(datos,tag):\n",
    "    return datos[tag].apply (lambda x : x.year if x.month <= 12 else x.year + 1)\n",
    "\n",
    "\n",
    "#Graficadores\n",
    "\n",
    "def graficador(data, tagX, tagY, title, labelX, labelY, interp, col):\n",
    "    ax = sns.tsplot(data=data[tagY], time=data[tagX], interpolate=interp, color=col)\n",
    "    plt.title(title)\n",
    "    plt.xlabel(labelX)\n",
    "    plt.ylabel(labelY)\n",
    "\n",
    "def graficadorSimple(xs,ys,title,labelX,labelY,interp,col):\n",
    "    ax = sns.tsplot(data=ys, time=xs, interpolate=interp, color=col)\n",
    "    plt.title(title)\n",
    "    plt.xlabel(labelX)\n",
    "    plt.ylabel(labelY)\n",
    "    \n",
    "def barras(xs,ys,title, labelX, labelY):\n",
    "    sns.barplot(x=xs, y=ys)\n",
    "    plt.title(title)\n",
    "    plt.xlabel(labelX)\n",
    "    plt.ylabel(labelY)\n",
    "\n",
    "def mostrar():\n",
    "    plt.show()\n",
    "    plt.close()\n",
    "\n",
    "\n",
    "#Auxiliares\n",
    "\n",
    "def descripcion(datos):\n",
    "    print(datos.describe())\n",
    "\n",
    "def ver_filas(datos, fil):\n",
    "    print(datos.head(fil))"
   ]
  },
  {
   "cell_type": "code",
   "execution_count": 29,
   "metadata": {
    "scrolled": false
   },
   "outputs": [
    {
     "name": "stdout",
     "output_type": "stream",
     "text": [
      "[[25, 23, 37, 15], [21, 26, 29, 24], [25, 19, 32, 24], [28, 28, 19, 25], [19, 29, 32, 20]]\n"
     ]
    },
    {
     "data": {
      "image/png": "[encoded data removed]",
      "text/plain": [
       "<matplotlib.figure.Figure at 0x7f548bf34da0>"
      ]
     },
     "metadata": {},
     "output_type": "display_data"
    }
   ],
   "source": [
    "################################\n",
    "# Levanto los datos, y los veo #\n",
    "################################\n",
    "\n",
    "df_distr = []\n",
    "df_distr.append(pd.read_csv('./distr/1.csv'))\n",
    "df_distr.append(pd.read_csv('./distr/2.csv'))\n",
    "df_distr.append(pd.read_csv('./distr/3.csv'))\n",
    "df_distr.append(pd.read_csv('./distr/4.csv'))\n",
    "df_distr.append(pd.read_csv('./distr/5.csv'))\n",
    "\n",
    "\n",
    "\n",
    "procesos = []\n",
    "for i in range(0,5):\n",
    "    aux = []\n",
    "    for i in range(0,4):\n",
    "        aux.append(0)\n",
    "    procesos.append(aux)\n",
    "\n",
    "\n",
    "for i in range(0,5):\n",
    "    for j in range(0,100):\n",
    "        procesos[i][df_distr[i]['rank'][j]-1] = procesos[i][df_distr[i]['rank'][j]-1] + 1\n",
    "print(procesos)\n",
    "numeros = [1,2,3,4]\n",
    "\n",
    "barras(numeros, procesos[0], 'Distribución de palabras sobre procesos con addAndInc', 'Nº Proceso', 'Cantidad de palabras agregadas')\n",
    "mostrar()\n"
   ]
  },
  {
   "cell_type": "code",
   "execution_count": null,
   "metadata": {
    "collapsed": true
   },
   "outputs": [],
   "source": [
    "df_distr1000 = pd.read_csv('./distr/1000.csv')\n",
    "\n",
    "mil = []\n",
    "for i in range(0,4):\n",
    "    mil.append(0)\n",
    "\n",
    "for j in range(0,100):\n",
    "    mil[df_distr1000['rank'][j]-1] = mil[df_distr['rank'][j]-1] + 1\n",
    "\n",
    "barras(numeros, mil, 'Distribución de palabras sobre procesos con addAndInc', 'Nº del proceso', 'Cantidad de palabras agregadas')\n",
    "mostrar()"
   ]
  },
  {
   "cell_type": "code",
   "execution_count": 40,
   "metadata": {},
   "outputs": [
    {
     "name": "stdout",
     "output_type": "stream",
     "text": [
      "    tiempo  rank     max\n",
      "0  2.95078     1  2.1094\n",
      "1  0.78079     1  0.0000\n",
      "2  1.10792     1  0.0000\n",
      "3  1.42362     1  0.0000\n",
      "4  1.72989     1  0.0000\n",
      "5  2.21759     1  0.0000\n",
      "6  1.72829     1  0.0000\n",
      "7  2.50047     1  0.0000\n",
      "8  1.38541     1  0.0000\n",
      "9  1.91774     1  0.0000\n"
     ]
    }
   ],
   "source": [
    "df_actual = pd.read_csv('./var/2/rc1.csv')\n",
    "ver_filas(df_actual,10)"
   ]
  },
  {
   "cell_type": "code",
   "execution_count": 41,
   "metadata": {},
   "outputs": [
    {
     "name": "stdout",
     "output_type": "stream",
     "text": [
      "2\n",
      ".csv\n",
      "rc1.csv\n"
     ]
    },
    {
     "name": "stderr",
     "output_type": "stream",
     "text": [
      "b'Skipping line 3: expected 1 fields, saw 2\\nSkipping line 5: expected 1 fields, saw 2\\nSkipping line 8: expected 1 fields, saw 2\\n'\n"
     ]
    },
    {
     "ename": "KeyError",
     "evalue": "'tiempo'",
     "output_type": "error",
     "traceback": [
      "\u001b[0;31m---------------------------------------------------------------------------\u001b[0m",
      "\u001b[0;31mKeyError\u001b[0m                                  Traceback (most recent call last)",
      "\u001b[0;32m/home/ivan/anaconda3/lib/python3.6/site-packages/pandas/core/indexes/base.py\u001b[0m in \u001b[0;36mget_loc\u001b[0;34m(self, key, method, tolerance)\u001b[0m\n\u001b[1;32m   2441\u001b[0m             \u001b[0;32mtry\u001b[0m\u001b[0;34m:\u001b[0m\u001b[0;34m\u001b[0m\u001b[0m\n\u001b[0;32m-> 2442\u001b[0;31m                 \u001b[0;32mreturn\u001b[0m \u001b[0mself\u001b[0m\u001b[0;34m.\u001b[0m\u001b[0m_engine\u001b[0m\u001b[0;34m.\u001b[0m\u001b[0mget_loc\u001b[0m\u001b[0;34m(\u001b[0m\u001b[0mkey\u001b[0m\u001b[0;34m)\u001b[0m\u001b[0;34m\u001b[0m\u001b[0m\n\u001b[0m\u001b[1;32m   2443\u001b[0m             \u001b[0;32mexcept\u001b[0m \u001b[0mKeyError\u001b[0m\u001b[0;34m:\u001b[0m\u001b[0;34m\u001b[0m\u001b[0m\n",
      "\u001b[0;32mpandas/_libs/index.pyx\u001b[0m in \u001b[0;36mpandas._libs.index.IndexEngine.get_loc\u001b[0;34m()\u001b[0m\n",
      "\u001b[0;32mpandas/_libs/index.pyx\u001b[0m in \u001b[0;36mpandas._libs.index.IndexEngine.get_loc\u001b[0;34m()\u001b[0m\n",
      "\u001b[0;32mpandas/_libs/hashtable_class_helper.pxi\u001b[0m in \u001b[0;36mpandas._libs.hashtable.PyObjectHashTable.get_item\u001b[0;34m()\u001b[0m\n",
      "\u001b[0;32mpandas/_libs/hashtable_class_helper.pxi\u001b[0m in \u001b[0;36mpandas._libs.hashtable.PyObjectHashTable.get_item\u001b[0;34m()\u001b[0m\n",
      "\u001b[0;31mKeyError\u001b[0m: 'tiempo'",
      "\nDuring handling of the above exception, another exception occurred:\n",
      "\u001b[0;31mKeyError\u001b[0m                                  Traceback (most recent call last)",
      "\u001b[0;32m<ipython-input-41-7aa370da997b>\u001b[0m in \u001b[0;36m<module>\u001b[0;34m()\u001b[0m\n\u001b[1;32m     12\u001b[0m             \u001b[0mprimero\u001b[0m \u001b[0;34m=\u001b[0m \u001b[0;32mFalse\u001b[0m\u001b[0;34m\u001b[0m\u001b[0m\n\u001b[1;32m     13\u001b[0m         \u001b[0;32melse\u001b[0m\u001b[0;34m:\u001b[0m\u001b[0;34m\u001b[0m\u001b[0m\n\u001b[0;32m---> 14\u001b[0;31m             \u001b[0mdf_exp1\u001b[0m\u001b[0;34m[\u001b[0m\u001b[0;34m-\u001b[0m\u001b[0;36m1\u001b[0m\u001b[0;34m]\u001b[0m\u001b[0;34m[\u001b[0m\u001b[0;34m'tiempo'\u001b[0m\u001b[0;34m]\u001b[0m \u001b[0;34m=\u001b[0m \u001b[0mdf_exp1\u001b[0m\u001b[0;34m[\u001b[0m\u001b[0;34m-\u001b[0m\u001b[0;36m1\u001b[0m\u001b[0;34m]\u001b[0m\u001b[0;34m[\u001b[0m\u001b[0;34m'tiempo'\u001b[0m\u001b[0;34m]\u001b[0m \u001b[0;34m+\u001b[0m \u001b[0mdf_actual\u001b[0m\u001b[0;34m[\u001b[0m\u001b[0;34m'tiempo'\u001b[0m\u001b[0;34m]\u001b[0m\u001b[0;34m\u001b[0m\u001b[0m\n\u001b[0m\u001b[1;32m     15\u001b[0m             \u001b[0mdf_exp1\u001b[0m\u001b[0;34m[\u001b[0m\u001b[0;34m-\u001b[0m\u001b[0;36m1\u001b[0m\u001b[0;34m]\u001b[0m\u001b[0;34m[\u001b[0m\u001b[0;34m'max'\u001b[0m\u001b[0;34m]\u001b[0m \u001b[0;34m=\u001b[0m \u001b[0mdf_exp1\u001b[0m\u001b[0;34m[\u001b[0m\u001b[0;34m-\u001b[0m\u001b[0;36m1\u001b[0m\u001b[0;34m]\u001b[0m\u001b[0;34m[\u001b[0m\u001b[0;34m'max'\u001b[0m\u001b[0;34m]\u001b[0m \u001b[0;34m+\u001b[0m \u001b[0mdf_actual\u001b[0m\u001b[0;34m[\u001b[0m\u001b[0;34m'max'\u001b[0m\u001b[0;34m]\u001b[0m\u001b[0;34m\u001b[0m\u001b[0m\n\u001b[1;32m     16\u001b[0m \u001b[0;34m\u001b[0m\u001b[0m\n",
      "\u001b[0;32m/home/ivan/anaconda3/lib/python3.6/site-packages/pandas/core/frame.py\u001b[0m in \u001b[0;36m__getitem__\u001b[0;34m(self, key)\u001b[0m\n\u001b[1;32m   1962\u001b[0m             \u001b[0;32mreturn\u001b[0m \u001b[0mself\u001b[0m\u001b[0;34m.\u001b[0m\u001b[0m_getitem_multilevel\u001b[0m\u001b[0;34m(\u001b[0m\u001b[0mkey\u001b[0m\u001b[0;34m)\u001b[0m\u001b[0;34m\u001b[0m\u001b[0m\n\u001b[1;32m   1963\u001b[0m         \u001b[0;32melse\u001b[0m\u001b[0;34m:\u001b[0m\u001b[0;34m\u001b[0m\u001b[0m\n\u001b[0;32m-> 1964\u001b[0;31m             \u001b[0;32mreturn\u001b[0m \u001b[0mself\u001b[0m\u001b[0;34m.\u001b[0m\u001b[0m_getitem_column\u001b[0m\u001b[0;34m(\u001b[0m\u001b[0mkey\u001b[0m\u001b[0;34m)\u001b[0m\u001b[0;34m\u001b[0m\u001b[0m\n\u001b[0m\u001b[1;32m   1965\u001b[0m \u001b[0;34m\u001b[0m\u001b[0m\n\u001b[1;32m   1966\u001b[0m     \u001b[0;32mdef\u001b[0m \u001b[0m_getitem_column\u001b[0m\u001b[0;34m(\u001b[0m\u001b[0mself\u001b[0m\u001b[0;34m,\u001b[0m \u001b[0mkey\u001b[0m\u001b[0;34m)\u001b[0m\u001b[0;34m:\u001b[0m\u001b[0;34m\u001b[0m\u001b[0m\n",
      "\u001b[0;32m/home/ivan/anaconda3/lib/python3.6/site-packages/pandas/core/frame.py\u001b[0m in \u001b[0;36m_getitem_column\u001b[0;34m(self, key)\u001b[0m\n\u001b[1;32m   1969\u001b[0m         \u001b[0;31m# get column\u001b[0m\u001b[0;34m\u001b[0m\u001b[0;34m\u001b[0m\u001b[0m\n\u001b[1;32m   1970\u001b[0m         \u001b[0;32mif\u001b[0m \u001b[0mself\u001b[0m\u001b[0;34m.\u001b[0m\u001b[0mcolumns\u001b[0m\u001b[0;34m.\u001b[0m\u001b[0mis_unique\u001b[0m\u001b[0;34m:\u001b[0m\u001b[0;34m\u001b[0m\u001b[0m\n\u001b[0;32m-> 1971\u001b[0;31m             \u001b[0;32mreturn\u001b[0m \u001b[0mself\u001b[0m\u001b[0;34m.\u001b[0m\u001b[0m_get_item_cache\u001b[0m\u001b[0;34m(\u001b[0m\u001b[0mkey\u001b[0m\u001b[0;34m)\u001b[0m\u001b[0;34m\u001b[0m\u001b[0m\n\u001b[0m\u001b[1;32m   1972\u001b[0m \u001b[0;34m\u001b[0m\u001b[0m\n\u001b[1;32m   1973\u001b[0m         \u001b[0;31m# duplicate columns & possible reduce dimensionality\u001b[0m\u001b[0;34m\u001b[0m\u001b[0;34m\u001b[0m\u001b[0m\n",
      "\u001b[0;32m/home/ivan/anaconda3/lib/python3.6/site-packages/pandas/core/generic.py\u001b[0m in \u001b[0;36m_get_item_cache\u001b[0;34m(self, item)\u001b[0m\n\u001b[1;32m   1643\u001b[0m         \u001b[0mres\u001b[0m \u001b[0;34m=\u001b[0m \u001b[0mcache\u001b[0m\u001b[0;34m.\u001b[0m\u001b[0mget\u001b[0m\u001b[0;34m(\u001b[0m\u001b[0mitem\u001b[0m\u001b[0;34m)\u001b[0m\u001b[0;34m\u001b[0m\u001b[0m\n\u001b[1;32m   1644\u001b[0m         \u001b[0;32mif\u001b[0m \u001b[0mres\u001b[0m \u001b[0;32mis\u001b[0m \u001b[0;32mNone\u001b[0m\u001b[0;34m:\u001b[0m\u001b[0;34m\u001b[0m\u001b[0m\n\u001b[0;32m-> 1645\u001b[0;31m             \u001b[0mvalues\u001b[0m \u001b[0;34m=\u001b[0m \u001b[0mself\u001b[0m\u001b[0;34m.\u001b[0m\u001b[0m_data\u001b[0m\u001b[0;34m.\u001b[0m\u001b[0mget\u001b[0m\u001b[0;34m(\u001b[0m\u001b[0mitem\u001b[0m\u001b[0;34m)\u001b[0m\u001b[0;34m\u001b[0m\u001b[0m\n\u001b[0m\u001b[1;32m   1646\u001b[0m             \u001b[0mres\u001b[0m \u001b[0;34m=\u001b[0m \u001b[0mself\u001b[0m\u001b[0;34m.\u001b[0m\u001b[0m_box_item_values\u001b[0m\u001b[0;34m(\u001b[0m\u001b[0mitem\u001b[0m\u001b[0;34m,\u001b[0m \u001b[0mvalues\u001b[0m\u001b[0;34m)\u001b[0m\u001b[0;34m\u001b[0m\u001b[0m\n\u001b[1;32m   1647\u001b[0m             \u001b[0mcache\u001b[0m\u001b[0;34m[\u001b[0m\u001b[0mitem\u001b[0m\u001b[0;34m]\u001b[0m \u001b[0;34m=\u001b[0m \u001b[0mres\u001b[0m\u001b[0;34m\u001b[0m\u001b[0m\n",
      "\u001b[0;32m/home/ivan/anaconda3/lib/python3.6/site-packages/pandas/core/internals.py\u001b[0m in \u001b[0;36mget\u001b[0;34m(self, item, fastpath)\u001b[0m\n\u001b[1;32m   3588\u001b[0m \u001b[0;34m\u001b[0m\u001b[0m\n\u001b[1;32m   3589\u001b[0m             \u001b[0;32mif\u001b[0m \u001b[0;32mnot\u001b[0m \u001b[0misnull\u001b[0m\u001b[0;34m(\u001b[0m\u001b[0mitem\u001b[0m\u001b[0;34m)\u001b[0m\u001b[0;34m:\u001b[0m\u001b[0;34m\u001b[0m\u001b[0m\n\u001b[0;32m-> 3590\u001b[0;31m                 \u001b[0mloc\u001b[0m \u001b[0;34m=\u001b[0m \u001b[0mself\u001b[0m\u001b[0;34m.\u001b[0m\u001b[0mitems\u001b[0m\u001b[0;34m.\u001b[0m\u001b[0mget_loc\u001b[0m\u001b[0;34m(\u001b[0m\u001b[0mitem\u001b[0m\u001b[0;34m)\u001b[0m\u001b[0;34m\u001b[0m\u001b[0m\n\u001b[0m\u001b[1;32m   3591\u001b[0m             \u001b[0;32melse\u001b[0m\u001b[0;34m:\u001b[0m\u001b[0;34m\u001b[0m\u001b[0m\n\u001b[1;32m   3592\u001b[0m                 \u001b[0mindexer\u001b[0m \u001b[0;34m=\u001b[0m \u001b[0mnp\u001b[0m\u001b[0;34m.\u001b[0m\u001b[0marange\u001b[0m\u001b[0;34m(\u001b[0m\u001b[0mlen\u001b[0m\u001b[0;34m(\u001b[0m\u001b[0mself\u001b[0m\u001b[0;34m.\u001b[0m\u001b[0mitems\u001b[0m\u001b[0;34m)\u001b[0m\u001b[0;34m)\u001b[0m\u001b[0;34m[\u001b[0m\u001b[0misnull\u001b[0m\u001b[0;34m(\u001b[0m\u001b[0mself\u001b[0m\u001b[0;34m.\u001b[0m\u001b[0mitems\u001b[0m\u001b[0;34m)\u001b[0m\u001b[0;34m]\u001b[0m\u001b[0;34m\u001b[0m\u001b[0m\n",
      "\u001b[0;32m/home/ivan/anaconda3/lib/python3.6/site-packages/pandas/core/indexes/base.py\u001b[0m in \u001b[0;36mget_loc\u001b[0;34m(self, key, method, tolerance)\u001b[0m\n\u001b[1;32m   2442\u001b[0m                 \u001b[0;32mreturn\u001b[0m \u001b[0mself\u001b[0m\u001b[0;34m.\u001b[0m\u001b[0m_engine\u001b[0m\u001b[0;34m.\u001b[0m\u001b[0mget_loc\u001b[0m\u001b[0;34m(\u001b[0m\u001b[0mkey\u001b[0m\u001b[0;34m)\u001b[0m\u001b[0;34m\u001b[0m\u001b[0m\n\u001b[1;32m   2443\u001b[0m             \u001b[0;32mexcept\u001b[0m \u001b[0mKeyError\u001b[0m\u001b[0;34m:\u001b[0m\u001b[0;34m\u001b[0m\u001b[0m\n\u001b[0;32m-> 2444\u001b[0;31m                 \u001b[0;32mreturn\u001b[0m \u001b[0mself\u001b[0m\u001b[0;34m.\u001b[0m\u001b[0m_engine\u001b[0m\u001b[0;34m.\u001b[0m\u001b[0mget_loc\u001b[0m\u001b[0;34m(\u001b[0m\u001b[0mself\u001b[0m\u001b[0;34m.\u001b[0m\u001b[0m_maybe_cast_indexer\u001b[0m\u001b[0;34m(\u001b[0m\u001b[0mkey\u001b[0m\u001b[0;34m)\u001b[0m\u001b[0;34m)\u001b[0m\u001b[0;34m\u001b[0m\u001b[0m\n\u001b[0m\u001b[1;32m   2445\u001b[0m \u001b[0;34m\u001b[0m\u001b[0m\n\u001b[1;32m   2446\u001b[0m         \u001b[0mindexer\u001b[0m \u001b[0;34m=\u001b[0m \u001b[0mself\u001b[0m\u001b[0;34m.\u001b[0m\u001b[0mget_indexer\u001b[0m\u001b[0;34m(\u001b[0m\u001b[0;34m[\u001b[0m\u001b[0mkey\u001b[0m\u001b[0;34m]\u001b[0m\u001b[0;34m,\u001b[0m \u001b[0mmethod\u001b[0m\u001b[0;34m=\u001b[0m\u001b[0mmethod\u001b[0m\u001b[0;34m,\u001b[0m \u001b[0mtolerance\u001b[0m\u001b[0;34m=\u001b[0m\u001b[0mtolerance\u001b[0m\u001b[0;34m)\u001b[0m\u001b[0;34m\u001b[0m\u001b[0m\n",
      "\u001b[0;32mpandas/_libs/index.pyx\u001b[0m in \u001b[0;36mpandas._libs.index.IndexEngine.get_loc\u001b[0;34m()\u001b[0m\n",
      "\u001b[0;32mpandas/_libs/index.pyx\u001b[0m in \u001b[0;36mpandas._libs.index.IndexEngine.get_loc\u001b[0;34m()\u001b[0m\n",
      "\u001b[0;32mpandas/_libs/hashtable_class_helper.pxi\u001b[0m in \u001b[0;36mpandas._libs.hashtable.PyObjectHashTable.get_item\u001b[0;34m()\u001b[0m\n",
      "\u001b[0;32mpandas/_libs/hashtable_class_helper.pxi\u001b[0m in \u001b[0;36mpandas._libs.hashtable.PyObjectHashTable.get_item\u001b[0;34m()\u001b[0m\n",
      "\u001b[0;31mKeyError\u001b[0m: 'tiempo'"
     ]
    }
   ],
   "source": [
    "df_exp1 = []\n",
    "df_exp1_nombres = []\n",
    "for filename in sorted(os.listdir('./var')):\n",
    "    print(filename)\n",
    "    df_exp1_nombres.append(filename)\n",
    "    primero = True\n",
    "    for file_exp in sorted(os.listdir('./var/'+str(filename))):\n",
    "        print(file_exp)\n",
    "        df_actual = pd.read_csv('./var/'+str(filename)+'/'+str(file_exp))\n",
    "        if(primero):\n",
    "            df_exp1.append(df_actual)\n",
    "            primero = False\n",
    "        else:\n",
    "            df_exp1[-1]['tiempo'] = df_exp1[-1]['tiempo'] + df_actual['tiempo']\n",
    "            df_exp1[-1]['max'] = df_exp1[-1]['max'] + df_actual['max']\n",
    "            \n",
    "for i in range(0,len(df_exp1)):\n",
    "    df_exp1[i]['tiempo'] = df_exp1[i]['tiempo'] / 5\n",
    "    df_exp1[i]['max'] = df_exp1[i]['max'] / 5\n",
    "\n",
    "addAndInc = []\n",
    "maximum = []\n",
    "for i in range(0,4):\n",
    "    count = 0\n",
    "    for j in range(0,100):\n",
    "        count = count + df_exp1[i]['tiempo'][j]\n",
    "    count = count/100\n",
    "    addAndInc.append(count)\n",
    "    maximum.append(df_exp1[i][max][0])\n",
    "    \n",
    "graficadorSimple(numeros,addAndInc,'titulo','lx','ly',False,'g')\n",
    "motrar()"
   ]
  },
  {
   "cell_type": "code",
   "execution_count": 2,
   "metadata": {
    "scrolled": true
   },
   "outputs": [
    {
     "name": "stdout",
     "output_type": "stream",
     "text": [
      "0 count_words_c\n",
      "1 count_words_ct\n",
      "2 maximum\n",
      "3 maximum_cw_c\n",
      "4 maximum_cw_ct\n"
     ]
    },
    {
     "data": {
      "image/png": "[encoded data removed]",
      "text/plain": [
       "<matplotlib.figure.Figure at 0x7f82a1bd27b8>"
      ]
     },
     "metadata": {},
     "output_type": "display_data"
    }
   ],
   "source": [
    "\n",
    "################################\n",
    "# Levanto los datos, y los veo #\n",
    "################################\n",
    "\n",
    "\n",
    "df_exp1 = []\n",
    "df_exp1_nombres = []\n",
    "for filename in sorted(os.listdir('./exp1/resultados')):\n",
    "    df_exp1_nombres.append(filename)\n",
    "    primero = True\n",
    "    for file_exp in sorted(os.listdir('./exp1/resultados/'+str(filename))):\n",
    "        df_actual = pd.read_csv('./exp1/resultados/'+str(filename)+'/'+str(file_exp))\n",
    "        if(primero):\n",
    "            df_exp1.append(df_actual)\n",
    "            primero = False\n",
    "        else:\n",
    "            df_exp1[-1]['tiempo'] = df_exp1[-1]['tiempo'] + df_actual['tiempo']\n",
    "\n",
    "for i in range(0,len(df_exp1)):\n",
    "    df_exp1[i]['tiempo'] = df_exp1[i]['tiempo'] / 10\n",
    "\n",
    "for i in range(0,len(df_exp1_nombres)):\n",
    "    print(str(i) + ' ' + str(df_exp1_nombres[i]))\n",
    "\n",
    "#####################\n",
    "# Hago los gráficos #\n",
    "#####################\n",
    "#graficador(data, tagX, tadY, title, labelX, labelY, interp, col)\n",
    "\n",
    "#2 maximum (AZUL) vs 3 maximum_cw_c (ROJO)\n",
    "graficador(df_exp1[2], 'threads', 'tiempo', 'maximum vs maximum_cw_c', 'Threads', 'Tiempo (segundos)', False, 'b')\n",
    "graficador(df_exp1[3], 'threads', 'tiempo', 'maximum vs maximum_cw_c', 'Threads', 'Tiempo (segundos)', False, 'r')\n",
    "#sns.plt.xlim((0,70))\n",
    "mostrar()\n"
   ]
  }
 ],
 "metadata": {
  "kernelspec": {
   "display_name": "Python 3",
   "language": "python",
   "name": "python3"
  },
  "language_info": {
   "codemirror_mode": {
    "name": "ipython",
    "version": 3
   },
   "file_extension": ".py",
   "mimetype": "text/x-python",
   "name": "python",
   "nbconvert_exporter": "python",
   "pygments_lexer": "ipython3",
   "version": "3.6.1"
  }
 },
 "nbformat": 4,
 "nbformat_minor": 2
}
